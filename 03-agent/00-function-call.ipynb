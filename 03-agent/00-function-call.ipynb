{
 "cells": [
  {
   "cell_type": "code",
   "execution_count": null,
   "id": "0543977a-7813-48a4-8880-4242ea5e7358",
   "metadata": {},
   "outputs": [],
   "source": [
    "# prepare env(shell command)\n",
    "\n",
    "# conda create -n agent python=3.10\n",
    "# conda activate agent\n",
    "# conda install jupyter \n",
    "# pip install ipykernel\n",
    "# python -m ipykernel install --user --name agent --display-name agent\n",
    "\n",
    "# pip install -U \"qwen-agent[gui,rag,code_interpreter,mcp]\""
   ]
  },
  {
   "cell_type": "code",
   "execution_count": 1,
   "id": "4cc9536e",
   "metadata": {},
   "outputs": [],
   "source": [
    "import os\n",
    "\n",
    "def load_api_key(file_path: str):\n",
    "    try:\n",
    "        with open(file_path, 'r') as file:\n",
    "            return file.read().strip()\n",
    "    except FileNotFoundError:\n",
    "        raise Exception(\"API key file not found\")"
   ]
  },
  {
   "cell_type": "code",
   "execution_count": 2,
   "id": "3e7711f4-c41d-4514-9e24-7007898eea08",
   "metadata": {},
   "outputs": [],
   "source": [
    "# define the function to query weather data\n",
    "import requests\n",
    "\n",
    "def get_weather(city: str) -> str:\n",
    "    \"\"\"\n",
    "    获取实时天气\n",
    "    \n",
    "    Args:\n",
    "        city (str): 城市名\n",
    "        \n",
    "    Returns:\n",
    "        str: 实时天气信息\n",
    "    \"\"\"\n",
    "    \n",
    "    # get the location ID by using the Geo API\n",
    "    geo_url = \"https://geoapi.qweather.com/v2/city/lookup\"\n",
    "    geo_params = {\n",
    "        \"location\": city,\n",
    "        \"key\": load_api_key(\"qweather_key.txt\")\n",
    "    }\n",
    "    \n",
    "    try:\n",
    "        geo_response = requests.get(geo_url, params=geo_params)\n",
    "        geo_data = geo_response.json()\n",
    "        \n",
    "        if geo_data.get(\"code\") != \"200\" or not geo_data.get(\"location\"):\n",
    "            return f\"Error: Could not find location ID for {city}\"\n",
    "        \n",
    "        # extract the location ID from the first result\n",
    "        location_id = geo_data[\"location\"][0][\"id\"]\n",
    "        city_name = geo_data[\"location\"][0][\"name\"]\n",
    "        \n",
    "        # query the weather with the location ID\n",
    "        weather_url = \"https://api.qweather.com/v7/weather/now\"\n",
    "        weather_params = {\n",
    "            \"location\": location_id,  # Using location_id instead of city name\n",
    "            \"key\": load_api_key(\"qweather_key.txt\"),\n",
    "            \"lang\": \"zh\"\n",
    "        }\n",
    "        \n",
    "        weather_response = requests.get(weather_url, params=weather_params)\n",
    "        weather_data = weather_response.json()\n",
    "        \n",
    "        if weather_data.get(\"code\") == \"200\":\n",
    "            weather_info = weather_data.get(\"now\", {})\n",
    "            result = f\"{city_name}实时天气：\\n\"\n",
    "            result += f\"温度：{weather_info.get('temp')}°C\\n\"\n",
    "            result += f\"天气：{weather_info.get('text')}\\n\"\n",
    "            result += f\"风向：{weather_info.get('windDir')}\\n\"\n",
    "            result += f\"风速：{weather_info.get('windSpeed')} km/h\\n\"\n",
    "            result += f\"相对湿度：{weather_info.get('humidity')}%\"\n",
    "            return result\n",
    "        else:\n",
    "            return f\"Error: {weather_data.get('code')} - {weather_data.get('message', 'Unknown error')}\"\n",
    "    \n",
    "    except Exception as e:\n",
    "        return f\"Failed to get weather data: {str(e)}\"\n"
   ]
  },
  {
   "cell_type": "code",
   "execution_count": 3,
   "id": "568e2771",
   "metadata": {},
   "outputs": [
    {
     "name": "stdout",
     "output_type": "stream",
     "text": [
      "北京实时天气：\n",
      "温度：13°C\n",
      "天气：晴\n",
      "风向：北风\n",
      "风速：33 km/h\n",
      "相对湿度：19%\n"
     ]
    }
   ],
   "source": [
    "# test the function\n",
    "print(get_weather('北京'))"
   ]
  },
  {
   "cell_type": "code",
   "execution_count": 4,
   "id": "821c7117-d455-430e-9a26-25c3f11b2e8e",
   "metadata": {},
   "outputs": [],
   "source": [
    "# register tool for llm\n",
    "import urllib.parse\n",
    "import json5\n",
    "import json\n",
    "from qwen_agent.tools.base import BaseTool, register_tool\n",
    "\n",
    "@register_tool('weather_query')\n",
    "class WeatherQuery(BaseTool):\n",
    "    description = '获得城市的实时天气'\n",
    "    parameters = [{\n",
    "        'name': 'city',\n",
    "        'type': 'string',\n",
    "        'description': '城市',\n",
    "        'required': True\n",
    "    }]\n",
    "\n",
    "    def call(self, params: str, **kwargs) -> str:\n",
    "        city = json5.loads(params)['city']\n",
    "        return get_weather(city)"
   ]
  },
  {
   "cell_type": "code",
   "execution_count": 5,
   "id": "2eeddd10-2523-4f7d-99ba-209dbb2cfb80",
   "metadata": {},
   "outputs": [],
   "source": [
    "from qwen_agent.agents import Assistant\n",
    "\n",
    "llm_cfg = {\n",
    "    'model': 'qwen-max',\n",
    "    'model_server': 'dashscope',\n",
    "    'api_key': load_api_key(\"key.txt\")\n",
    "}\n",
    "\n",
    "bot = Assistant(\n",
    "    llm = llm_cfg,\n",
    "    system_message = '你是一个能获得实时天气的AI助手',\n",
    "    function_list = ['weather_query'] \n",
    ")"
   ]
  },
  {
   "cell_type": "code",
   "execution_count": 6,
   "id": "51fcf3e9-d069-4b60-9eb2-a647137e9a4c",
   "metadata": {},
   "outputs": [
    {
     "name": "stdout",
     "output_type": "stream",
     "text": [
      "* Running on local URL:  http://127.0.0.1:7860\n",
      "\n",
      "To create a public link, set `share=True` in `launch()`.\n"
     ]
    },
    {
     "data": {
      "text/html": [
       "<div><iframe src=\"http://127.0.0.1:7860/\" width=\"100%\" height=\"500\" allow=\"autoplay; camera; microphone; clipboard-read; clipboard-write;\" frameborder=\"0\" allowfullscreen></iframe></div>"
      ],
      "text/plain": [
       "<IPython.core.display.HTML object>"
      ]
     },
     "metadata": {},
     "output_type": "display_data"
    }
   ],
   "source": [
    "from qwen_agent.gui import WebUI\n",
    "\n",
    "WebUI(bot).run(server_port=7860)"
   ]
  },
  {
   "cell_type": "code",
   "execution_count": null,
   "id": "258be14a-683f-41c3-a5c8-64b8db0b7161",
   "metadata": {},
   "outputs": [],
   "source": []
  }
 ],
 "metadata": {
  "kernelspec": {
   "display_name": "agent",
   "language": "python",
   "name": "agent"
  },
  "language_info": {
   "codemirror_mode": {
    "name": "ipython",
    "version": 3
   },
   "file_extension": ".py",
   "mimetype": "text/x-python",
   "name": "python",
   "nbconvert_exporter": "python",
   "pygments_lexer": "ipython3",
   "version": "3.10.16"
  }
 },
 "nbformat": 4,
 "nbformat_minor": 5
}
