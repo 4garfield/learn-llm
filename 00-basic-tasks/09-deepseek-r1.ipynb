{
 "cells": [
  {
   "cell_type": "code",
   "execution_count": 1,
   "id": "5d2f857f-0b6e-4121-a65a-674f44743e53",
   "metadata": {},
   "outputs": [],
   "source": [
    "from openai import OpenAI\n",
    "import os"
   ]
  },
  {
   "cell_type": "code",
   "execution_count": 2,
   "id": "3a07c2b0-7660-4da5-993b-431d60c86859",
   "metadata": {},
   "outputs": [],
   "source": [
    "def load_api_key(file_path='key.txt'):\n",
    "    try:\n",
    "        with open(file_path, 'r') as file:\n",
    "            return file.read().strip()\n",
    "    except FileNotFoundError:\n",
    "        raise Exception(\"API key file not found\")"
   ]
  },
  {
   "cell_type": "code",
   "execution_count": 4,
   "id": "066c8fb2-48d4-4a46-8c94-67f5c2be31cb",
   "metadata": {},
   "outputs": [],
   "source": [
    "client = OpenAI(\n",
    "    api_key = load_api_key(),\n",
    "    base_url = \"https://dashscope.aliyuncs.com/compatible-mode/v1\"\n",
    ")\n",
    "\n",
    "prompt = \"Area of triangle: base 6cm, height 4cm. Show formula and result only\"\n",
    "reasoning_content = \"\"\n",
    "answer_content = \"\"\n",
    "is_answering = False\n",
    "\n",
    "try:\n",
    "    reason_response = client.chat.completions.create(\n",
    "        model = \"deepseek-r1\",\n",
    "        messages = [{'role': 'user', 'content': prompt}],\n",
    "        stream = True,\n",
    "        stream_options = {\n",
    "            \"include_usage\": True\n",
    "        }\n",
    "    )\n",
    "except Exception as e:\n",
    "    raise Exception(f\"API call failed: {str(e)}\")"
   ]
  },
  {
   "cell_type": "code",
   "execution_count": 6,
   "id": "09f46ae2-86c1-4cc2-94fe-2165e2e0f943",
   "metadata": {},
   "outputs": [
    {
     "name": "stdout",
     "output_type": "stream",
     "text": [
      "\n",
      "====================思考过程====================\n",
      "\n",
      "Okay, so I need to find the area of a triangle where the base is 6 cm and the height is 4 cm. Hmm, let me remember the formula for the area of a triangle. I think it's something like half of the base multiplied by the height. Wait, right, the formula is (base × height) divided by 2. Yeah, that makes sense because a triangle is essentially half of a parallelogram, right? So if you have a parallelogram with the same base and height, its area is base times height, and the triangle is half of that.\n",
      "\n",
      " me write that down to be sure. The formula should be:\n",
      "\n",
      " = (base × height) / 2\n",
      "\n",
      "ging in the given values, the base is 6 cm and the height is 4 cm. So substituting those into the formula:\n",
      "\n",
      " = (6 cm × 4 cm) / 2\n",
      "\n",
      ", I'll calculate the multiplication part. 6 multiplied by 4 is 24. So that gives me 24 cm², and then I divide that by 2. Dividing 24 by 2 is 12. So the area should be 12 cm².\n",
      "\n",
      " a second, let me double-check. If the base were 5 cm and height 4 cm, the area would be (5×4)/2 = 10 cm². So 6 cm base would indeed be 24/2 = 12. That seems right. Is there any chance I mixed up base and height? The problem specifies base 6 cm and height 4 cm, so no, I used the correct values. The units are in centimeters, so the area will be in square centimeters. \n",
      "\n",
      " don't think there's anything else to it. The formula is straightforward, and the calculation is simple multiplication and division. No need for complicated steps here. Just making sure I didn't make any arithmetic errors. 6 times 4 is definitely 24, half of 24 is 12. Yep, that's correct. So the area is 12 cm².\n",
      "====================完整回复====================\n",
      "\n",
      " area of the triangle is calculated using the formula:\n",
      "\\[\n",
      "{Area} = \\frac{1}{2} \\times \\text{base} \\times \\text{height}\n",
      "]\n",
      "stituting the given values:\n",
      "\\[\n",
      "{Area} = \\frac{1}{2} \\times 6\\,\\text{cm} \\times 4\\,\\text{cm} = 12\\,\\text{cm}^2\n",
      "\\]\n",
      "\n",
      "Result:** 12 cm²\n",
      "Usage:\n",
      "CompletionUsage(completion_tokens=529, prompt_tokens=22, total_tokens=551, completion_tokens_details=None, prompt_tokens_details=None)\n"
     ]
    }
   ],
   "source": [
    "# from https://bailian.console.aliyun.com/#/model-market/detail/deepseek-r1?tabKey=sdk\n",
    "\n",
    "print(\"\\n\" + \"=\" * 20 + \"思考过程\" + \"=\" * 20 + \"\\n\")\n",
    "\n",
    "for chunk in reason_response:\n",
    "    # 如果chunk.choices为空，则打印usage\n",
    "    if not chunk.choices:\n",
    "        print(\"\\nUsage:\")\n",
    "        print(chunk.usage)\n",
    "    else:\n",
    "        delta = chunk.choices[0].delta\n",
    "        # 打印思考过程\n",
    "        if hasattr(delta, 'reasoning_content') and delta.reasoning_content != None:\n",
    "            print(delta.reasoning_content, end='', flush=True)\n",
    "            reasoning_content += delta.reasoning_content\n",
    "        else:\n",
    "            # 开始回复\n",
    "            if delta.content != \"\" and is_answering == False:\n",
    "                print(\"\\n\" + \"=\" * 20 + \"完整回复\" + \"=\" * 20 + \"\\n\")\n",
    "                is_answering = True\n",
    "            # 打印回复过程\n",
    "            print(delta.content, end='', flush=True)\n",
    "            answer_content += delta.content"
   ]
  }
 ],
 "metadata": {
  "kernelspec": {
   "display_name": "Python 3 (ipykernel)",
   "language": "python",
   "name": "python3"
  },
  "language_info": {
   "codemirror_mode": {
    "name": "ipython",
    "version": 3
   },
   "file_extension": ".py",
   "mimetype": "text/x-python",
   "name": "python",
   "nbconvert_exporter": "python",
   "pygments_lexer": "ipython3",
   "version": "3.10.16"
  }
 },
 "nbformat": 4,
 "nbformat_minor": 5
}
