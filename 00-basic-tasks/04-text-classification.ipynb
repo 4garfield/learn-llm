{
 "cells": [
  {
   "cell_type": "code",
   "execution_count": 1,
   "id": "5d2f857f-0b6e-4121-a65a-674f44743e53",
   "metadata": {},
   "outputs": [],
   "source": [
    "from openai import OpenAI\n",
    "import os"
   ]
  },
  {
   "cell_type": "code",
   "execution_count": 2,
   "id": "3a07c2b0-7660-4da5-993b-431d60c86859",
   "metadata": {},
   "outputs": [],
   "source": [
    "def load_api_key(file_path='key.txt'):\n",
    "    try:\n",
    "        with open(file_path, 'r') as file:\n",
    "            return file.read().strip()\n",
    "    except FileNotFoundError:\n",
    "        raise Exception(\"API key file not found\")"
   ]
  },
  {
   "cell_type": "code",
   "execution_count": 3,
   "id": "066c8fb2-48d4-4a46-8c94-67f5c2be31cb",
   "metadata": {},
   "outputs": [],
   "source": [
    "def make_classification(prompt):\n",
    "\n",
    "    client = OpenAI(\n",
    "        api_key = load_api_key(),\n",
    "        base_url = \"https://dashscope.aliyuncs.com/compatible-mode/v1\"\n",
    "    )\n",
    "\n",
    "    try:\n",
    "        response = client.chat.completions.create(\n",
    "            model = \"deepseek-v3\",\n",
    "            messages = [{'role': 'user', 'content': prompt}],\n",
    "            temperature = 0.7\n",
    "        )\n",
    "        \n",
    "        return response.choices[0].message.content\n",
    "    except Exception as e:\n",
    "        raise Exception(f\"API call failed: {str(e)}\")\n",
    "\n"
   ]
  },
  {
   "cell_type": "code",
   "execution_count": 4,
   "id": "09f46ae2-86c1-4cc2-94fe-2165e2e0f943",
   "metadata": {},
   "outputs": [],
   "source": [
    "feedback_messages = [\n",
    "\"I absolutely love the product! It's even better than I hoped for.\",\n",
    "\"The shipping took longer than expected, but the product arrived in perfect condition.\",\n",
    "\"I'm really pleased with my purchase. It's high-quality and exactly what I wanted.\",\n",
    "\"I had a horrible experience. The item I received looks nothing like the description.\",\n",
    "\"The customer support team went above and beyond to help me with my problem.\",\n",
    "\"The product is fantastic! It exceeded my expectations by a mile.\",\n",
    "\"The packaging was a bit damaged, but the product inside was flawless.\",\n",
    "\"I'm happy with my purchase. The quality is top-notch.\",\n",
    "\"I'm extremely disappointed. The product doesn't match what was advertised.\",\n",
    "\"Kudos to the customer service team for their prompt assistance in resolving my issue.\"\n",
    "]"
   ]
  },
  {
   "cell_type": "code",
   "execution_count": 6,
   "id": "b8254dec-9bfb-46a5-8d67-da57e15b7bff",
   "metadata": {},
   "outputs": [],
   "source": [
    "prompt = f\"\"\"\n",
    "Classify the following customer feedback into positive, neutral, or negative sentiment:\n",
    "\"\"\"\n",
    "for message in feedback_messages:\n",
    "    prompt += f\"- {message}\\n\""
   ]
  },
  {
   "cell_type": "code",
   "execution_count": 7,
   "id": "5968e24b-0f61-448c-946c-3ffb290d1290",
   "metadata": {},
   "outputs": [
    {
     "name": "stdout",
     "output_type": "stream",
     "text": [
      "Here is the classification of the customer feedback into positive, neutral, or negative sentiment:\n",
      "\n",
      "1. **Positive**: I absolutely love the product! It's even better than I hoped for.  \n",
      "2. **Neutral**: The shipping took longer than expected, but the product arrived in perfect condition.  \n",
      "3. **Positive**: I'm really pleased with my purchase. It's high-quality and exactly what I wanted.  \n",
      "4. **Negative**: I had a horrible experience. The item I received looks nothing like the description.  \n",
      "5. **Positive**: The customer support team went above and beyond to help me with my problem.  \n",
      "6. **Positive**: The product is fantastic! It exceeded my expectations by a mile.  \n",
      "7. **Neutral**: The packaging was a bit damaged, but the product inside was flawless.  \n",
      "8. **Positive**: I'm happy with my purchase. The quality is top-notch.  \n",
      "9. **Negative**: I'm extremely disappointed. The product doesn't match what was advertised.  \n",
      "10. **Positive**: Kudos to the customer service team for their prompt assistance in resolving my issue.\n"
     ]
    }
   ],
   "source": [
    "result = make_classification(prompt)\n",
    "print(result)"
   ]
  }
 ],
 "metadata": {
  "kernelspec": {
   "display_name": "Python 3 (ipykernel)",
   "language": "python",
   "name": "python3"
  },
  "language_info": {
   "codemirror_mode": {
    "name": "ipython",
    "version": 3
   },
   "file_extension": ".py",
   "mimetype": "text/x-python",
   "name": "python",
   "nbconvert_exporter": "python",
   "pygments_lexer": "ipython3",
   "version": "3.11.5"
  }
 },
 "nbformat": 4,
 "nbformat_minor": 5
}
