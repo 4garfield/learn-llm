{
 "cells": [
  {
   "cell_type": "code",
   "execution_count": null,
   "id": "e4f0a7b2-1919-48b5-b683-bd1f10400a62",
   "metadata": {},
   "outputs": [],
   "source": [
    "# Using OpenAI Client For OpenAI API\n",
    "\n",
    "Reference\n",
    "* https://bailian.console.aliyun.com/#/model-market/detail/deepseek-v3\n",
    "* https://api-docs.deepseek.com/zh-cn/api/create-chat-completion\n",
    "* https://platform.openai.com/docs/api-reference/chat"
   ]
  },
  {
   "cell_type": "code",
   "execution_count": 3,
   "id": "7b82c747-6e0a-4ca9-940e-a3a08ee54fbe",
   "metadata": {},
   "outputs": [
    {
     "name": "stdout",
     "output_type": "stream",
     "text": [
      "DeepSeek Response:\n",
      "LLM stands for **Large Language Model**, which is a type of artificial intelligence (AI) model designed to understand, generate, and work with human language. These models are trained on vast amounts of text data and use deep learning techniques, particularly **transformer architectures**, to process and generate text in a way that mimics human language patterns.\n",
      "\n",
      "### Key Characteristics of LLMs:\n",
      "1. **Scale**: LLMs are characterized by their large size, often consisting of billions of parameters (the internal variables that the model learns during training).\n",
      "2. **Versatility**: They can perform a wide range of tasks, such as answering questions, summarizing text, translating languages, writing code, and generating creative content.\n",
      "3. **Pre-training and Fine-tuning**: LLMs are typically pre-trained on large datasets to learn general language patterns and then fine-tuned for specific tasks or domains.\n",
      "4. **Context Awareness**: They can understand and generate text based on context, making them effective for conversational AI and other applications.\n",
      "\n",
      "### Examples of LLMs:\n",
      "- **GPT (Generative Pre-trained Transformer)**: Developed by OpenAI (e.g., GPT-3, GPT-4).\n",
      "- **BERT (Bidirectional Encoder Representations from Transformers)**: Developed by Google.\n",
      "- **LLaMA (Large Language Model Meta AI)**: Developed by Meta (Facebook).\n",
      "- **PaLM (Pathways Language Model)**: Developed by Google.\n",
      "\n",
      "### Applications of LLMs:\n",
      "- Chatbots and virtual assistants (e.g., ChatGPT, Google Bard).\n",
      "- Content creation (e.g., writing articles, generating code).\n",
      "- Language translation and summarization.\n",
      "- Customer support and automated responses.\n",
      "- Educational tools and tutoring systems.\n",
      "\n",
      "LLMs have become a cornerstone of modern AI, enabling advancements in natural language processing (NLP) and transforming how humans interact with machines. However, they also raise ethical concerns, such as potential biases, misinformation, and misuse.\n"
     ]
    }
   ],
   "source": [
    "from openai import OpenAI\n",
    "import os\n",
    "\n",
    "def load_api_key(file_path='key.txt'):\n",
    "    try:\n",
    "        with open(file_path, 'r') as file:\n",
    "            return file.read().strip()\n",
    "    except FileNotFoundError:\n",
    "        raise Exception(\"API key file not found\")\n",
    "\n",
    "def chat_completion(prompt, model=\"deepseek-v3\"):\n",
    "\n",
    "    client = OpenAI(\n",
    "        api_key = load_api_key(),\n",
    "        base_url = \"https://dashscope.aliyuncs.com/compatible-mode/v1\"\n",
    "    )\n",
    "\n",
    "    try:\n",
    "        response = client.chat.completions.create(\n",
    "            model = model,\n",
    "            messages = [{'role': 'user', 'content': prompt}],\n",
    "            temperature = 0.7\n",
    "        )\n",
    "        \n",
    "        return response.choices[0].message.content\n",
    "    except Exception as e:\n",
    "        raise Exception(f\"API call failed: {str(e)}\")\n",
    "\n",
    "# Example usage\n",
    "if __name__ == \"__main__\":\n",
    "    try:\n",
    "        prompt = \"What is llm\"\n",
    "        response = chat_completion(prompt)\n",
    "        print(\"DeepSeek Response:\")\n",
    "        print(response)\n",
    "    except Exception as e:\n",
    "        print(f\"Error: {str(e)}\")"
   ]
  },
  {
   "cell_type": "code",
   "execution_count": null,
   "id": "5d2f857f-0b6e-4121-a65a-674f44743e53",
   "metadata": {},
   "outputs": [],
   "source": []
  }
 ],
 "metadata": {
  "kernelspec": {
   "display_name": "Python 3 (ipykernel)",
   "language": "python",
   "name": "python3"
  },
  "language_info": {
   "codemirror_mode": {
    "name": "ipython",
    "version": 3
   },
   "file_extension": ".py",
   "mimetype": "text/x-python",
   "name": "python",
   "nbconvert_exporter": "python",
   "pygments_lexer": "ipython3",
   "version": "3.11.5"
  }
 },
 "nbformat": 4,
 "nbformat_minor": 5
}
