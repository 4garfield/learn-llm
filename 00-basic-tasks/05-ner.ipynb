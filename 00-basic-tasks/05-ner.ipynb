{
 "cells": [
  {
   "cell_type": "code",
   "execution_count": 1,
   "id": "5d2f857f-0b6e-4121-a65a-674f44743e53",
   "metadata": {},
   "outputs": [],
   "source": [
    "from openai import OpenAI\n",
    "import os"
   ]
  },
  {
   "cell_type": "code",
   "execution_count": 2,
   "id": "3a07c2b0-7660-4da5-993b-431d60c86859",
   "metadata": {},
   "outputs": [],
   "source": [
    "def load_api_key(file_path='key.txt'):\n",
    "    try:\n",
    "        with open(file_path, 'r') as file:\n",
    "            return file.read().strip()\n",
    "    except FileNotFoundError:\n",
    "        raise Exception(\"API key file not found\")"
   ]
  },
  {
   "cell_type": "code",
   "execution_count": 3,
   "id": "066c8fb2-48d4-4a46-8c94-67f5c2be31cb",
   "metadata": {},
   "outputs": [],
   "source": [
    "def ner(prompt):\n",
    "\n",
    "    client = OpenAI(\n",
    "        api_key = load_api_key(),\n",
    "        base_url = \"https://dashscope.aliyuncs.com/compatible-mode/v1\"\n",
    "    )\n",
    "\n",
    "    try:\n",
    "        response = client.chat.completions.create(\n",
    "            model = \"deepseek-v3\",\n",
    "            messages = [{'role': 'user', 'content': prompt}],\n",
    "            temperature = 0.7\n",
    "        )\n",
    "        \n",
    "        return response.choices[0].message.content\n",
    "    except Exception as e:\n",
    "        raise Exception(f\"API call failed: {str(e)}\")\n",
    "\n"
   ]
  },
  {
   "cell_type": "code",
   "execution_count": 4,
   "id": "09f46ae2-86c1-4cc2-94fe-2165e2e0f943",
   "metadata": {},
   "outputs": [],
   "source": [
    "input_text = \"\"\"\n",
    "Xavier Morera is a Pluralsight author. He has been creating courses since October 2013. He lives in Costa Rica.\n",
    "\"\"\""
   ]
  },
  {
   "cell_type": "code",
   "execution_count": 5,
   "id": "b8254dec-9bfb-46a5-8d67-da57e15b7bff",
   "metadata": {},
   "outputs": [],
   "source": [
    "prompt = f\"\"\"\n",
    "Perform named entity recognition on the following text:\\n {input_text}\n",
    "\"\"\""
   ]
  },
  {
   "cell_type": "code",
   "execution_count": 6,
   "id": "5968e24b-0f61-448c-946c-3ffb290d1290",
   "metadata": {},
   "outputs": [
    {
     "name": "stdout",
     "output_type": "stream",
     "text": [
      "Here is the named entity recognition (NER) for the given text:\n",
      "\n",
      "1. **Xavier Morera** - **PERSON** (Name of a person)  \n",
      "2. **Pluralsight** - **ORGANIZATION** (Name of a company or organization)  \n",
      "3. **October 2013** - **DATE** (Specific date)  \n",
      "4. **Costa Rica** - **GPE** (Geo-political entity, i.e., a country)  \n",
      "\n",
      "Summary of entities:\n",
      "- **PERSON**: Xavier Morera  \n",
      "- **ORGANIZATION**: Pluralsight  \n",
      "- **DATE**: October 2013  \n",
      "- **GPE**: Costa Rica\n"
     ]
    }
   ],
   "source": [
    "print(ner(prompt))"
   ]
  }
 ],
 "metadata": {
  "kernelspec": {
   "display_name": "Python 3 (ipykernel)",
   "language": "python",
   "name": "python3"
  },
  "language_info": {
   "codemirror_mode": {
    "name": "ipython",
    "version": 3
   },
   "file_extension": ".py",
   "mimetype": "text/x-python",
   "name": "python",
   "nbconvert_exporter": "python",
   "pygments_lexer": "ipython3",
   "version": "3.11.5"
  }
 },
 "nbformat": 4,
 "nbformat_minor": 5
}
