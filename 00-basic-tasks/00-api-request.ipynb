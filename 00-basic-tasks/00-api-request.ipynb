{
 "cells": [
  {
   "cell_type": "markdown",
   "id": "8d89b960-66ee-44ab-9653-b2f3b8f28c5c",
   "metadata": {},
   "source": [
    "# Using Request Library For OpenAI API\n",
    "\n",
    "Reference\n",
    "* https://bailian.console.aliyun.com/#/model-market/detail/deepseek-v3\n",
    "* https://api-docs.deepseek.com/zh-cn/api/create-chat-completion\n",
    "* https://platform.openai.com/docs/api-reference/chat"
   ]
  },
  {
   "cell_type": "code",
   "execution_count": 6,
   "id": "e3db901f-3722-4d4e-9aae-8de1eb5a77a2",
   "metadata": {},
   "outputs": [
    {
     "name": "stdout",
     "output_type": "stream",
     "text": [
      "DeepSeek Response:\n",
      "LLM stands for **Large Language Model**. It refers to a type of artificial intelligence (AI) model that is trained on vast amounts of text data to understand and generate human-like language. These models are based on deep learning architectures, particularly **transformers**, which allow them to process and generate text with high accuracy and coherence.\n",
      "\n",
      "### Key Features of LLMs:\n",
      "1. **Scale**: They are trained on massive datasets, often containing billions of words, to learn patterns, grammar, and context.\n",
      "2. **Versatility**: LLMs can perform a wide range of language tasks, such as answering questions, summarizing text, translating languages, writing essays, and even coding.\n",
      "3. **Transformer Architecture**: Most LLMs, like GPT (Generative Pre-trained Transformer), use the transformer model, which relies on attention mechanisms to process and generate text efficiently.\n",
      "4. **Pre-training and Fine-tuning**: LLMs are typically pre-trained on large datasets and then fine-tuned for specific tasks or domains.\n",
      "\n",
      "### Examples of LLMs:\n",
      "- **GPT (OpenAI)**: GPT-3, GPT-4, and other versions are some of the most well-known LLMs.\n",
      "- **BERT (Google)**: A model designed for understanding context in search queries and other tasks.\n",
      "- **LaMDA (Google)**: A conversational AI model.\n",
      "- **PaLM (Google)**: A large model designed for various language tasks.\n",
      "- **LLaMA (Meta)**: A smaller, more efficient LLM for research purposes.\n",
      "\n",
      "### Applications of LLMs:\n",
      "1. **Chatbots and Virtual Assistants**: Powering conversational AI like ChatGPT or Siri.\n",
      "2. **Content Generation**: Writing articles, essays, or creative content.\n",
      "3. **Translation**: Automating language translation.\n",
      "4. **Coding Assistance**: Helping developers write and debug code (e.g., GitHub Copilot).\n",
      "5. **Customer Support**: Automating responses to customer queries.\n",
      "\n",
      "### Challenges:\n",
      "1. **Bias**: LLMs can inherit biases from their training data.\n",
      "2. **Misinformation**: They may generate incorrect or misleading information.\n",
      "3. **Resource Intensity**: Training and running LLMs require significant computational power.\n",
      "4. **Ethical Concerns**: Issues like misuse, privacy, and accountability.\n",
      "\n",
      "LLMs are a rapidly evolving field in AI, with ongoing research aimed at improving their capabilities, reducing biases, and making them more accessible and efficient.\n"
     ]
    }
   ],
   "source": [
    "import requests\n",
    "import json\n",
    "\n",
    "def load_api_key(file_path='key.txt'):\n",
    "    try:\n",
    "        with open(file_path, 'r') as file:\n",
    "            return file.read().strip()\n",
    "    except FileNotFoundError:\n",
    "        raise Exception(\"API key file not found\")\n",
    "\n",
    "def chat_completion(prompt, model=\"deepseek-v3\"):\n",
    "    api_key = load_api_key()\n",
    "    \n",
    "    headers = {\n",
    "        \"Content-Type\": \"application/json\",\n",
    "        \"Authorization\": f\"Bearer {api_key}\"\n",
    "    }\n",
    "    \n",
    "    payload = {\n",
    "        \"model\": model,\n",
    "        \"messages\": [{\"role\": \"user\", \"content\": prompt}],\n",
    "        \"temperature\": 0.7\n",
    "    }\n",
    "    \n",
    "    try:\n",
    "        response = requests.post(\n",
    "            \"https://dashscope.aliyuncs.com/compatible-mode/v1/chat/completions\",\n",
    "            headers=headers,\n",
    "            json=payload\n",
    "        )\n",
    "        \n",
    "        if response.status_code == 200:\n",
    "            return response.json()[\"choices\"][0][\"message\"][\"content\"]\n",
    "        else:\n",
    "            raise Exception(f\"API call failed with status code: {response.status_code}\")\n",
    "            \n",
    "    except requests.exceptions.RequestException as e:\n",
    "        raise Exception(f\"Request failed: {str(e)}\")\n",
    "\n",
    "# Example usage\n",
    "if __name__ == \"__main__\":\n",
    "    try:\n",
    "        prompt = \"What is llm\"\n",
    "        response = chat_completion(prompt)\n",
    "        print(\"DeepSeek Response:\")\n",
    "        print(response)\n",
    "    except Exception as e:\n",
    "        print(f\"Error: {str(e)}\")\n"
   ]
  },
  {
   "cell_type": "code",
   "execution_count": null,
   "id": "b9f95dd8-6e7a-4e42-8b0e-662d8404fc39",
   "metadata": {},
   "outputs": [],
   "source": []
  }
 ],
 "metadata": {
  "kernelspec": {
   "display_name": "Python 3 (ipykernel)",
   "language": "python",
   "name": "python3"
  },
  "language_info": {
   "codemirror_mode": {
    "name": "ipython",
    "version": 3
   },
   "file_extension": ".py",
   "mimetype": "text/x-python",
   "name": "python",
   "nbconvert_exporter": "python",
   "pygments_lexer": "ipython3",
   "version": "3.11.5"
  }
 },
 "nbformat": 4,
 "nbformat_minor": 5
}
